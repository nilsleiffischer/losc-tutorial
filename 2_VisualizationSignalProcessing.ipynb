{
 "cells": [
  {
   "cell_type": "markdown",
   "metadata": {},
   "source": [
    "## 2. PyCBC Tutorial: Visualization of Data and Signal Processing\n",
    "\n",
    "We will be using the [PyCBC](http://github.com/ligo-cbc/pycbc) library, which is used to study gravitational-wave data, find astrophysical sources due to compact binary mergers, and study their parameters. These are some of the same tools that the LIGO and Virgo collaborations use to find gravitational waves in LIGO/Virgo data \n",
    "\n",
    "In this tutorial we will walk through how to visualize LIGO/Virgo data and how to perform some basic signal processing on it, including high/low passing, psd estimation, and whitening.\n",
    "\n",
    "Additional [examples](http://pycbc.org/pycbc/latest/html/#library-examples-and-interactive-tutorials) and module level documentation are [here](http://pycbc.org/pycbc/latest/html/py-modindex.html)"
   ]
  },
  {
   "cell_type": "markdown",
   "metadata": {},
   "source": [
    "#### Getting the software environment setup\n",
    "\n",
    "PyCBC is installable through pip, but also relies on portions of the [LALSuite]() c-library. A bundled version of this suitable for use with PyCBC is also available on Mac / Linux through pip. These can be installed as follows within the notebook."
   ]
  },
  {
   "cell_type": "code",
   "execution_count": null,
   "metadata": {},
   "outputs": [],
   "source": [
    "!pip install lalsuite pycbc"
   ]
  },
  {
   "cell_type": "markdown",
   "metadata": {},
   "source": [
    "#### Viewing the raw LIGO data\n",
    "\n",
    "Below we will view the raw ligo data. You should notice that there is signifant low frequency content (indicated by the large oscilations) and even some DC offset in the data."
   ]
  },
  {
   "cell_type": "code",
   "execution_count": null,
   "metadata": {
    "collapsed": true
   },
   "outputs": [],
   "source": [
    "%matplotlib inline\n",
    "\n",
    "# Read in the data around GW150914\n",
    "from pycbc.catalog import Merger\n",
    "import pylab\n",
    "\n",
    "m = Merger('GW150914')\n",
    "\n",
    "data = {}\n",
    "for ifo in ['H1', 'L1']:\n",
    "    data[ifo] = m.strain(ifo)"
   ]
  },
  {
   "cell_type": "markdown",
   "metadata": {},
   "source": [
    "##### Entire 32 seconds of data round GW150914"
   ]
  },
  {
   "cell_type": "code",
   "execution_count": null,
   "metadata": {},
   "outputs": [],
   "source": [
    "for ifo in data:\n",
    "    pylab.plot(data[ifo].sample_times, data[ifo], label=ifo)\n",
    "\n",
    "pylab.ylabel('Strain')\n",
    "pylab.xlabel('GPS Time (s)')\n",
    "pylab.legend()\n",
    "pylab.show()"
   ]
  },
  {
   "cell_type": "markdown",
   "metadata": {},
   "source": [
    "##### Zoom into 1 second nearby to GW150914\n",
    "\n",
    "When you just zoom in to one second around GW150914, all you can see is the low frequency behavior of the noise, since it is much louder than the higher frequency noise (and signal)."
   ]
  },
  {
   "cell_type": "code",
   "execution_count": null,
   "metadata": {
    "scrolled": true
   },
   "outputs": [],
   "source": [
    "for ifo in data:\n",
    "    # The time slice method can give just a portion of the time\n",
    "    # series using GPS start and stop times\n",
    "    zoom = data[ifo].time_slice(m.time - 0.5, m.time + 0.5)\n",
    "    pylab.plot(zoom.sample_times, zoom, label=ifo)\n",
    "\n",
    "pylab.legend()\n",
    "pylab.show()"
   ]
  },
  {
   "cell_type": "markdown",
   "metadata": {},
   "source": [
    "#### Highpass the data to remove the low frequency content\n",
    "\n",
    "Below we apply a highpass filter to the data to suppress the low frequency noise of the instrument. We can see that this brings the dynamic range of the data largely into the same range. However, there is clearly still some dominant frerquencies. To equalize this, we would need to apply a whitening filter."
   ]
  },
  {
   "cell_type": "code",
   "execution_count": null,
   "metadata": {},
   "outputs": [],
   "source": [
    "for ifo in data:\n",
    "    # Apply a highpass filter to the data. This suppresses the low\n",
    "    # frequency content of the data. We choose here a finite-impulse-response (FIR).\n",
    "    # Options\n",
    "    # 1) highpass frequency\n",
    "    # 2) half sample length of highpass filter \n",
    "    #(higher value will give less ripple in passband)\n",
    "    high_data = data[ifo].highpass_fir(15, 512) # Highpass point is 15 Hz\n",
    "    \n",
    "    # The time slice method can give just a portion of the time\n",
    "    # series using GPS start and stop times\n",
    "    zoom = high_data.time_slice(m.time - 0.5, m.time + 0.5)\n",
    "    pylab.plot(zoom.sample_times, zoom, label=ifo)\n",
    "\n",
    "pylab.legend()\n",
    "pylab.show()"
   ]
  },
  {
   "cell_type": "markdown",
   "metadata": {},
   "source": [
    "#### What is the power spectral density (PSD) of the data ? \n",
    "\n",
    "Understanding how the noise power varies over frequency is important for LIGO data analysis. In this \n",
    "section we use a version of [Welch's method](https://en.wikipedia.org/wiki/Welch%27s_method)\n",
    "to estimate the power spectral density of the data.\n",
    "\n",
    "Note that there is a significant amount of noise at low frequencies (orders of magnitude). Note also that there is a large amount of power at a few specific frequencies. The causes for these include 60 Hz power line noise, violin modes of the hanging mirrors, and various other instrumental resonances. The downturn in power before 2 KHz is due to a low pass filter that was applied prior to resampling the data to 4096 Hz."
   ]
  },
  {
   "cell_type": "code",
   "execution_count": null,
   "metadata": {},
   "outputs": [],
   "source": [
    "for ifo in data:\n",
    "    # This estimates the PSD by sub-dividing the data into overlapping\n",
    "    # 4s long segments. (See Welch's method)\n",
    "    psd = data[ifo].psd(4)\n",
    "    \n",
    "    # Note that the psd is a FrequencySeries!\n",
    "    pylab.loglog(psd.sample_frequencies, psd)\n",
    "    \n",
    "pylab.ylabel('$Strain^2 / Hz$')\n",
    "pylab.xlabel('Frequency (Hz)')\n",
    "pylab.grid()\n",
    "pylab.xlim(10, 2048)\n",
    "pylab.show()"
   ]
  },
  {
   "cell_type": "markdown",
   "metadata": {},
   "source": [
    "#### Whitening the data\n",
    "\n",
    "To visualize deviations from the noise, it is useful to \"whiten\" the data within some frequency range. In this way excesses in the data are visible as deviations from zero. Whitening takes the data and attempts to make the power spectral density flat, so that all frequencies contribute equally.\n",
    "\n",
    "Below we will whiten the data, and then bandpass the result to focus on a specific frequency range."
   ]
  },
  {
   "cell_type": "code",
   "execution_count": null,
   "metadata": {},
   "outputs": [],
   "source": [
    "# Whiten the data\n",
    "whitened = {}\n",
    "\n",
    "for ifo in data:\n",
    "    # This produces a whitened set.\n",
    "    # This works by estimating the power spectral density from the\n",
    "    # data and then flattening the frequency response.\n",
    "    # (1) The first option sets the duration in seconds of each\n",
    "    #     sample of the data used as part of the PSD estimate.\n",
    "    # (2) The second option sets the duration of the filter to apply\n",
    "    whitened[ifo] = data[ifo].whiten(4, 4)\n",
    "\n",
    "    zoom = whitened[ifo].time_slice(m.time - 0.5, m.time + 0.5)\n",
    "    pylab.plot(zoom.sample_times, zoom, label=ifo)\n",
    "\n",
    "pylab.ylabel('Whitened Strain')\n",
    "pylab.xlabel('Time (s)')\n",
    "pylab.legend()\n",
    "pylab.show()"
   ]
  },
  {
   "cell_type": "markdown",
   "metadata": {},
   "source": [
    "We will now bandpass the data around GW150914 between 30 - 250 Hz. This will remove frequency ranges which won't contribute to this kind of signal and make it possible to see the signal in question."
   ]
  },
  {
   "cell_type": "code",
   "execution_count": null,
   "metadata": {},
   "outputs": [],
   "source": [
    "for ifo in whitened:\n",
    "    # Apply a highpass filter (at 30 Hz) followed by an lowpass filter (at 250 Hz)\n",
    "    bpsd = whitened[ifo].highpass_fir(30, 512).lowpass_fir(250, 512)\n",
    "    \n",
    "    zoom = bpsd.time_slice(m.time - 0.5, m.time + 0.5)\n",
    "    pylab.plot(zoom.sample_times, zoom, label=ifo)\n",
    "\n",
    "pylab.grid()\n",
    "pylab.legend()\n",
    "pylab.show()"
   ]
  },
  {
   "cell_type": "markdown",
   "metadata": {},
   "source": [
    "#### Focus the Plot around GW150914\n",
    "\n",
    "In the above plot we can see that there is some excess signal that sticks above the noise. Let's zoom around this time now, and align the two time series."
   ]
  },
  {
   "cell_type": "code",
   "execution_count": null,
   "metadata": {},
   "outputs": [],
   "source": [
    "pylab.figure(figsize=[15, 3])\n",
    "for ifo in whitened:\n",
    "    # Apply a highpass filter (at 30 Hz) followed by an lowpass filter (at 250 Hz)\n",
    "    bpsd = whitened[ifo].highpass_fir(30, 512).lowpass_fir(250, 512)\n",
    "    \n",
    "    # We'll choose a tighter zoom here.\n",
    "    zoom = bpsd.time_slice(m.time - 0.2, m.time + .1)\n",
    "    pylab.plot(zoom.sample_times, zoom, label=ifo)\n",
    "\n",
    "pylab.grid()\n",
    "pylab.legend()\n",
    "pylab.show()"
   ]
  },
  {
   "cell_type": "code",
   "execution_count": null,
   "metadata": {},
   "outputs": [],
   "source": [
    "pylab.figure(figsize=[15, 3])\n",
    "for ifo in whitened:\n",
    "    # Apply a highpass filter (at 30 Hz) followed by an lowpass filter (at 250 Hz)\n",
    "    bpsd = whitened[ifo].highpass_fir(30, 512).lowpass_fir(250, 512)\n",
    "    \n",
    "    # Now we'll specially align the L1 data. Where does this come from?\n",
    "    # (1) We already knew that the signal was ~ 7 ms separated between detectors.\n",
    "    # (2) The two LIGO interferometers are roughly aligned so that the output of\n",
    "    #     one is a sign change of the other for *many* sky locations. This is an\n",
    "    #     approximation and doesn't hold for all possible source sky locations.\n",
    "    # A later tutorial will show how to estimate this alignment more precisely.\n",
    "    if ifo == 'L1':\n",
    "        bpsd.roll(int(bpsd.sample_rate * .007))\n",
    "        bpsd *= -1\n",
    "    \n",
    "    # We'll choose a tighter zoom here.\n",
    "    zoom = bpsd.time_slice(m.time - 0.2, m.time + .1)\n",
    "    pylab.plot(zoom.sample_times, zoom, label=ifo)\n",
    "\n",
    "pylab.grid()\n",
    "pylab.legend()\n",
    "pylab.show()"
   ]
  },
  {
   "cell_type": "markdown",
   "metadata": {},
   "source": [
    "We can now see that there is a coherent signal that matches in phase for a few cycles, which ends at about 0.44 on the plot above. "
   ]
  },
  {
   "cell_type": "markdown",
   "metadata": {},
   "source": [
    "#### Visualizing excesses in the data with a Q-transform plot\n",
    "\n",
    "A common way to visualize gravitational-wave data is with a time-frequency representation known as the [constant-Q transform](https://en.wikipedia.org/wiki/Constant-Q_transform). It is similar to a standard spectrogram made with short-time Fourier transforms with the advantage that frequency bins are more sparsely spaced at high freqeuncys."
   ]
  },
  {
   "cell_type": "code",
   "execution_count": null,
   "metadata": {},
   "outputs": [],
   "source": [
    "for ifo in whitened:\n",
    "    # We'll choose a tighter zoom here.\n",
    "    zoom = whitened[ifo].time_slice(m.time - 5, m.time + 5)\n",
    "                    \n",
    "    # The qtransform method returns a vector of the sample times, frequencies, and a 2-d vector of the \n",
    "    # power in each time-frequency bin. The free parameter is the choice of the Q-value. Larger Q-values\n",
    "    # are generally more appropriate for viewing long duration features of the data and vice versa. \n",
    "                    \n",
    "    # The options here:\n",
    "    # (1) The time spacing for the output image (i.e. 1 ms in this case)\n",
    "    # (2) The number of frequency bins in the output, logarithmically spaced\n",
    "    # (3) The qrange to maximize over. We'll pick a constant at 8 here\n",
    "    #     Typically higher values will be more appropriate for longer duration\n",
    "    #     signals\n",
    "    # (4) The frequency range to output\n",
    "    times, freqs, power = zoom.qtransform(.001, logfsteps=100,\n",
    "                                                qrange=(8, 8),\n",
    "                                                frange=(20, 512),\n",
    "                                         )\n",
    "    pylab.figure(figsize=[15, 3])\n",
    "    pylab.pcolormesh(times, freqs, power**0.5)\n",
    "    pylab.xlim(m.time - 0.5, m.time + 0.3)\n",
    "    pylab.title(ifo)\n",
    "    pylab.yscale('log')"
   ]
  },
  {
   "cell_type": "markdown",
   "metadata": {},
   "source": [
    "The GW150914 signal is relatively clear in the qtransform output, which is why the Q-transform can be a powerful diagnostic. However, note that quieter signals, especially those with lower masses than GW150914 had, will be harder to spot visually. In practice, we use a technique called [matched filtering](https://en.wikipedia.org/wiki/Matched_filter) to find signals in our data."
   ]
  },
  {
   "cell_type": "markdown",
   "metadata": {},
   "source": [
    "## Challenge!\n",
    "\n",
    "Use the methods demonstrated above to see if you can visually spot a chirping signal in these data sets. Which of them contain a signal? Which contains just Gaussian noise?\n",
    "\n",
    "Information that may be useful:\n",
    "\n",
    "* Signals are all placed between 100 and 120 seconds into the frame file.\n",
    "* Try whitening the data, then plotting the qtransform.\n",
    "* Each file starts at gps time 0, and ends at gps time 128\n",
    "* The channel name in each file is \"H1:TEST-STRAIN\""
   ]
  },
  {
   "cell_type": "code",
   "execution_count": null,
   "metadata": {},
   "outputs": [],
   "source": [
    "# Download the challenge set files\n",
    "import urllib\n",
    "\n",
    "def get_file(fname):\n",
    "    url = \"https://github.com/ahnitz/odw-storage/raw/master/{}\"\n",
    "    url = url.format(fname)\n",
    "    urllib.urlretrieve(url, fname)\n",
    "    print('Getting : {}'.format(url))\n",
    "\n",
    "files = ['PyCBC_T2_0.gwf', 'PyCBC_T2_1.gwf', 'PyCBC_T2_2.gwf',\n",
    "         'PyCBC_T2_3.gwf', 'PyCBC_T2_4.gwf']\n",
    "\n",
    "for fname in files:\n",
    "    get_file(fname)"
   ]
  },
  {
   "cell_type": "code",
   "execution_count": null,
   "metadata": {},
   "outputs": [],
   "source": [
    "import pycbc.frame\n",
    "\n",
    "# example of reading the strain in (note this is the same as in PyCBC tutorial 1)\n",
    "ts = pycbc.frame.read_frame('PyCBC_T2_0.gwf', 'H1:TEST-STRAIN', 0, 128)\n",
    "pylab.plot(ts.sample_times, ts)\n",
    "pylab.show()"
   ]
  }
 ],
 "metadata": {
  "kernelspec": {
   "display_name": "Python 2",
   "language": "python",
   "name": "python2"
  },
  "language_info": {
   "codemirror_mode": {
    "name": "ipython",
    "version": 2
   },
   "file_extension": ".py",
   "mimetype": "text/x-python",
   "name": "python",
   "nbconvert_exporter": "python",
   "pygments_lexer": "ipython2",
   "version": "2.7.15"
  }
 },
 "nbformat": 4,
 "nbformat_minor": 2
}
